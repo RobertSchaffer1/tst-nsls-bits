{
 "cells": [
  {
   "cell_type": "markdown",
   "id": "tst-test-header",
   "metadata": {},
   "source": [
    "# TST NSLS-II BITS Test Notebook\n",
    "\n",
    "This notebook runs the same tests as `scripts/test.py` to demonstrate:\n",
    "- Importing TST startup\n",
    "- Listing all devices via oregistry\n",
    "- Listing available plans\n",
    "- Running mock plans\n",
    "\n",
    "**Note**: This notebook runs in mock mode for safe testing without hardware."
   ]
  },
  {
   "cell_type": "markdown",
   "id": "setup-header",
   "metadata": {},
   "source": [
    "## 1. Setup and Imports"
   ]
  },
  {
   "cell_type": "code",
   "execution_count": null,
   "id": "setup-mock-mode",
   "metadata": {},
   "outputs": [],
   "source": [
    "import sys\n",
    "import os\n",
    "\n",
    "# Set mock mode for testing\n",
    "os.environ[\"TST_MOCK_MODE\"] = \"YES\"\n",
    "\n",
    "print(\"=\" * 80)\n",
    "print(\"TST NSLS-II BITS Test Notebook\")\n",
    "print(\"=\" * 80)"
   ]
  },
  {
   "cell_type": "code",
   "execution_count": null,
   "id": "import-startup",
   "metadata": {},
   "outputs": [],
   "source": [
    "# Import the TST startup\n",
    "print(\"\\n1. Importing TST startup...\")\n",
    "try:\n",
    "    from tst_instrument.startup import *\n",
    "    print(\"✓ Successfully imported TST startup\")\n",
    "except Exception as e:\n",
    "    print(f\"✗ Error importing startup: {e}\")\n",
    "    raise"
   ]
  },
  {
   "cell_type": "markdown",
   "id": "devices-header",
   "metadata": {},
   "source": [
    "## 2. Device Registry"
   ]
  },
  {
   "cell_type": "code",
   "execution_count": null,
   "id": "list-devices",
   "metadata": {},
   "outputs": [],
   "source": [
    "# List all devices from oregistry\n",
    "print(\"\\n2. Listing all devices from oregistry:\")\n",
    "print(\"-\" * 40)\n",
    "try:\n",
    "    # Use oregistry.all_devices to get all devices\n",
    "    all_devices = oregistry.all_devices\n",
    "    device_list = [(device.name, device) for device in all_devices]\n",
    "    \n",
    "    print(f\"Total devices found: {len(device_list)}\")\n",
    "    for device_name, device in device_list:\n",
    "        device_type = type(device).__name__\n",
    "        print(f\"  - {device_name:<20} ({device_type})\")\n",
    "        \n",
    "        # Show additional info for TST devices\n",
    "        if hasattr(device, 'prefix'):\n",
    "            print(f\"    PV prefix: {device.prefix}\")\n",
    "except Exception as e:\n",
    "    print(f\"✗ Error listing devices: {e}\")"
   ]
  },
  {
   "cell_type": "markdown",
   "id": "plans-header",
   "metadata": {},
   "source": [
    "## 3. Available Plans"
   ]
  },
  {
   "cell_type": "code",
   "execution_count": null,
   "id": "list-plans",
   "metadata": {},
   "outputs": [],
   "source": [
    "# List available plans\n",
    "print(\"\\n3. Listing available plans:\")\n",
    "print(\"-\" * 40)\n",
    "try:\n",
    "    # Get all available plans\n",
    "    plan_names = []\n",
    "    \n",
    "    # Standard Bluesky plans\n",
    "    from bluesky import plans as bp\n",
    "    for attr_name in dir(bp):\n",
    "        if not attr_name.startswith('_') and callable(getattr(bp, attr_name)):\n",
    "            plan_names.append(f\"bp.{attr_name}\")\n",
    "    \n",
    "    # TST-specific plans\n",
    "    tst_plans = [\n",
    "        \"sim_count_plan\",\n",
    "        \"sim_print_plan\", \n",
    "        \"sim_rel_scan_plan\",\n",
    "        \"tomo_demo_async\",\n",
    "        \"xas_demo_async\",\n",
    "        \"energy_calibration_plan\",\n",
    "    ]\n",
    "    \n",
    "    print(f\"Standard Bluesky plans: {len(plan_names)}\")\n",
    "    print(f\"TST-specific plans: {len(tst_plans)}\")\n",
    "    print(\"\\nTST Plans:\")\n",
    "    for plan in tst_plans:\n",
    "        print(f\"  - {plan}\")\n",
    "except Exception as e:\n",
    "    print(f\"✗ Error listing plans: {e}\")"
   ]
  },
  {
   "cell_type": "markdown",
   "id": "mock-plans-header",
   "metadata": {},
   "source": [
    "## 4. Running Mock Plans"
   ]
  },
  {
   "cell_type": "code",
   "execution_count": null,
   "id": "test-print-plan",
   "metadata": {},
   "outputs": [],
   "source": [
    "# Test 1: Simple print plan\n",
    "print(\"\\nTest 1: Running sim_print_plan...\")\n",
    "try:\n",
    "    RE(sim_print_plan(\"Hello from TST BITS!\"))\n",
    "    print(\"✓ sim_print_plan completed successfully\")\n",
    "except Exception as e:\n",
    "    print(f\"✗ Error running sim_print_plan: {e}\")"
   ]
  },
  {
   "cell_type": "code",
   "execution_count": null,
   "id": "test-count-plan",
   "metadata": {},
   "outputs": [],
   "source": [
    "# Test 2: Count plan with simulated detector\n",
    "print(\"\\nTest 2: Running sim_count_plan...\")\n",
    "try:\n",
    "    # Use the simulated detector\n",
    "    sim_det = oregistry.find(name=\"sim_det\")\n",
    "    RE(sim_count_plan(sim_det, num=3))\n",
    "    print(\"✓ sim_count_plan completed successfully\")\n",
    "except Exception as e:\n",
    "    print(f\"✗ Error running sim_count_plan: {e}\")"
   ]
  },
  {
   "cell_type": "code",
   "execution_count": null,
   "id": "test-scan-plan",
   "metadata": {},
   "outputs": [],
   "source": [
    "# Test 3: Relative scan with simulated motor and detector\n",
    "print(\"\\nTest 3: Running sim_rel_scan_plan...\")\n",
    "try:\n",
    "    sim_motor = oregistry.find(name=\"sim_motor\")\n",
    "    sim_det = oregistry.find(name=\"sim_det\")\n",
    "    RE(sim_rel_scan_plan(sim_det, sim_motor, -1, 1, 5))\n",
    "    print(\"✓ sim_rel_scan_plan completed successfully\")\n",
    "except Exception as e:\n",
    "    print(f\"✗ Error running sim_rel_scan_plan: {e}\")"
   ]
  },
  {
   "cell_type": "code",
   "execution_count": null,
   "id": "test-energy-plan",
   "metadata": {},
   "outputs": [],
   "source": [
    "# Test 4: Energy calibration plan (mock)\n",
    "print(\"\\nTest 4: Running energy_calibration_plan...\")\n",
    "try:\n",
    "    energy_points = [8000, 8500, 9000, 9500, 10000]\n",
    "    RE(energy_calibration_plan(energy_points, motor=\"rot_motor\"))\n",
    "    print(\"✓ energy_calibration_plan completed successfully\")\n",
    "except Exception as e:\n",
    "    print(f\"✗ Error running energy_calibration_plan: {e}\")"
   ]
  },
  {
   "cell_type": "markdown",
   "id": "engine-state-header",
   "metadata": {},
   "source": [
    "## 5. Run Engine State"
   ]
  },
  {
   "cell_type": "code",
   "execution_count": null,
   "id": "check-engine-state",
   "metadata": {},
   "outputs": [],
   "source": [
    "# Show run engine state\n",
    "print(\"\\n5. Run Engine State:\")\n",
    "print(\"-\" * 40)\n",
    "try:\n",
    "    print(f\"Run Engine state: {RE.state}\")\n",
    "    print(f\"Current run UID: {RE.md.get('scan_id', 'N/A')}\")\n",
    "    print(f\"Metadata keys: {list(RE.md.keys())[:10]}...\")  # Show first 10 keys\n",
    "except Exception as e:\n",
    "    print(f\"✗ Error accessing RE state: {e}\")"
   ]
  },
  {
   "cell_type": "markdown",
   "id": "summary-header",
   "metadata": {},
   "source": [
    "## 6. Summary\n",
    "\n",
    "If all cells above executed successfully, your TST BITS deployment is working correctly!\n",
    "\n",
    "### Available Objects:\n",
    "- `RE`: Run Engine\n",
    "- `oregistry`: Device registry\n",
    "- All TST devices and plans\n",
    "\n",
    "### Try Interactive Commands:\n",
    "```python\n",
    "# Run a simple count\n",
    "RE(sim_count_plan(sim_det, num=5))\n",
    "\n",
    "# List all devices\n",
    "for device in oregistry.all_devices:\n",
    "    print(f\"{device.name}: {type(device).__name__}\")\n",
    "```"
   ]
  },
  {
   "cell_type": "code",
   "execution_count": null,
   "id": "final-status",
   "metadata": {},
   "outputs": [],
   "source": [
    "print(\"\\n\" + \"=\" * 80)\n",
    "print(\"TST BITS Test Notebook Complete!\")\n",
    "print(\"=\" * 80)\n",
    "print(\"\\nYou are now ready to use TST BITS interactively.\")\n",
    "print(\"All TST devices and plans are available in the notebook environment.\")"
   ]
  }
 ],
 "metadata": {
  "kernelspec": {
   "display_name": "Python 3 (ipykernel)",
   "language": "python",
   "name": "python3"
  },
  "language_info": {
   "codemirror_mode": {
    "name": "ipython",
    "version": 3
   },
   "file_extension": ".py",
   "mimetype": "text/x-python",
   "name": "python",
   "nbconvert_exporter": "python",
   "pygments_lexer": "ipython3",
   "version": "3.11.0"
  }
 },
 "nbformat": 4,
 "nbformat_minor": 5
}