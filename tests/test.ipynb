{
 "cells": [
  {
   "cell_type": "markdown",
   "id": "tst-test-header",
   "metadata": {},
   "source": [
    "# TST NSLS-II BITS Test Notebook\n",
    "\n",
    "This notebook runs the same tests as `scripts/test.py` to demonstrate:\n",
    "- Importing TST startup\n",
    "- Listing all devices via oregistry\n",
    "- Listing available plans\n",
    "- Running mock plans\n",
    "\n",
    "**Note**: This notebook runs in mock mode for safe testing without hardware."
   ]
  },
  {
   "cell_type": "markdown",
   "id": "setup-header",
   "metadata": {},
   "source": [
    "## 1. Setup and Imports"
   ]
  },
  {
   "cell_type": "code",
   "execution_count": 1,
   "id": "setup-mock-mode",
   "metadata": {},
   "outputs": [
    {
     "name": "stdout",
     "output_type": "stream",
     "text": [
      "================================================================================\n",
      "TST NSLS-II BITS Test Notebook\n",
      "================================================================================\n"
     ]
    }
   ],
   "source": [
    "import sys\n",
    "import os\n",
    "\n",
    "# Set mock mode for testing\n",
    "os.environ[\"TST_MOCK_MODE\"] = \"YES\"\n",
    "\n",
    "print(\"=\" * 80)\n",
    "print(\"TST NSLS-II BITS Test Notebook\")\n",
    "print(\"=\" * 80)"
   ]
  },
  {
   "cell_type": "code",
   "execution_count": 2,
   "id": "import-startup",
   "metadata": {},
   "outputs": [
    {
     "name": "stdout",
     "output_type": "stream",
     "text": [
      "\n",
      "1. Importing TST startup...\n"
     ]
    },
    {
     "name": "stderr",
     "output_type": "stream",
     "text": [
      "I Thu-10:19:54.385: **************************************** Bluesky Startup\n",
      "I Thu-10:19:54.393: **************************************** Bluesky Startup\n"
     ]
    },
    {
     "name": "stdout",
     "output_type": "stream",
     "text": [
      "\n",
      "Below are the IPython logging settings for your session.\n",
      "These settings have no impact on your experiment.\n",
      "\n",
      "Activating auto-logging. Current session state plus future input saved.\n",
      "Filename       : /home/ravescovi/workspace/bAIt/bits_deployments/tst-nsls-bits/tests/.logs/ipython_log.py\n",
      "Mode           : rotate\n",
      "Output logging : True\n",
      "Raw input log  : False\n",
      "Timestamping   : True\n",
      "State          : active\n",
      "\n",
      "Below are the IPython logging settings for your session.\n",
      "These settings have no impact on your experiment.\n",
      "\n"
     ]
    },
    {
     "name": "stderr",
     "output_type": "stream",
     "text": [
      "/home/ravescovi/miniconda3/conda_envs/BITS_demo/lib/python3.11/site-packages/IPython/core/magics/logging.py:130: UserWarning: Couldn't start log: Log file is already active: /home/ravescovi/workspace/bAIt/bits_deployments/tst-nsls-bits/tests/.logs/ipython_log.py\n",
      "  warn(\"Couldn't start log: %s\" % sys.exc_info()[1])\n"
     ]
    },
    {
     "name": "stdout",
     "output_type": "stream",
     "text": [
      "Exception reporting mode: Plain\n",
      "\n",
      "End of IPython settings\n",
      "\n"
     ]
    },
    {
     "name": "stderr",
     "output_type": "stream",
     "text": [
      "W Thu-10:19:59.969: Invalid or empty extra logging configuration file: /home/ravescovi/workspace/bAIt/bits_deployments/tst-nsls-bits/src/tst_instrument/configs/extra_logging.yml\n",
      "I Thu-10:19:59.971: **************************************** Bluesky Startup\n",
      "/home/ravescovi/miniconda3/conda_envs/BITS_demo/lib/python3.11/site-packages/IPython/core/magics/logging.py:130: UserWarning: Couldn't start log: Log file is already active: /home/ravescovi/workspace/bAIt/bits_deployments/tst-nsls-bits/tests/.logs/ipython_log.py\n",
      "  warn(\"Couldn't start log: %s\" % sys.exc_info()[1])\n",
      "I Thu-10:19:59.974: Starting Instrument with iconfig: /home/ravescovi/workspace/bAIt/bits_deployments/tst-nsls-bits/src/tst_instrument/configs/iconfig.yml\n",
      "I Thu-10:19:59.976: Registered Bluesky IPython magics\n",
      "I Thu-10:20:00.016: Databroker catalog name: temp\n",
      "I Thu-10:20:00.017: using ophyd control layer: 'pyepics'\n",
      "I Thu-10:20:00.020: RunEngine metadata saved to: .re_md_dict.yml\n"
     ]
    },
    {
     "name": "stdout",
     "output_type": "stream",
     "text": [
      "\n",
      "Below are the IPython logging settings for your session.\n",
      "These settings have no impact on your experiment.\n",
      "\n"
     ]
    },
    {
     "name": "stderr",
     "output_type": "stream",
     "text": [
      "I Thu-10:20:01.131: SPEC data file: /home/ravescovi/workspace/bAIt/bits_deployments/tst-nsls-bits/tests/20250724-102001.dat\n",
      "I Thu-10:20:01.469: No custom path provided.\n",
      "\n",
      "Using default configs path: /home/ravescovi/workspace/bAIt/bits_deployments/tst-nsls-bits/src/tst_instrument/configs\n",
      "I Thu-10:20:01.472: Loading device file: /home/ravescovi/workspace/bAIt/bits_deployments/tst-nsls-bits/src/tst_instrument/configs/devices.yml\n",
      "I Thu-10:20:01.866: Initialized TST motor 'rot_motor' with prefix 'XF:31ID1-OP:1{CMT:1-Ax:Rot}Mtr' (mock=True)\n",
      "I Thu-10:20:01.871: Initialized TST detector 'manta1' with prefix 'XF:31ID1-ES:1{Manta:1}' (mock=True)\n",
      "I Thu-10:20:01.878: Initialized TST detector 'manta2' with prefix 'XF:31ID1-ES:1{Manta:2}' (mock=True)\n",
      "I Thu-10:20:01.885: Devices loaded in 0.409 s.\n",
      "I Thu-10:20:01.888: Adding ophyd device 'manta1' to main namespace\n",
      "I Thu-10:20:01.890: Adding ophyd device 'manta2' to main namespace\n",
      "I Thu-10:20:01.892: Adding ophyd device 'rot_motor' to main namespace\n",
      "I Thu-10:20:01.894: Adding ophyd device 'shutter' to main namespace\n",
      "I Thu-10:20:01.896: Adding ophyd device 'sim_det' to main namespace\n",
      "I Thu-10:20:01.897: Adding ophyd device 'sim_motor' to main namespace\n",
      "I Thu-10:20:02.905: Initializing TST hardware systems\n",
      "I Thu-10:20:02.907: Hardware systems initialization completed\n",
      "I Thu-10:20:02.910: No detectors with HDF5 plugins found\n",
      "I Thu-10:20:02.912: TST NSLS-II instrument startup completed successfully\n"
     ]
    },
    {
     "name": "stdout",
     "output_type": "stream",
     "text": [
      "✓ Successfully imported TST startup\n"
     ]
    }
   ],
   "source": [
    "# Import the TST startup\n",
    "print(\"\\n1. Importing TST startup...\")\n",
    "try:\n",
    "    from tst_instrument.startup import *\n",
    "    print(\"✓ Successfully imported TST startup\")\n",
    "except Exception as e:\n",
    "    print(f\"✗ Error importing startup: {e}\")\n",
    "    raise"
   ]
  },
  {
   "cell_type": "markdown",
   "id": "devices-header",
   "metadata": {},
   "source": [
    "## 2. Device Registry"
   ]
  },
  {
   "cell_type": "code",
   "execution_count": 3,
   "id": "list-devices",
   "metadata": {},
   "outputs": [
    {
     "name": "stdout",
     "output_type": "stream",
     "text": [
      "\n",
      "2. Listing all devices from oregistry:\n",
      "----------------------------------------\n",
      "Total devices found: 148\n",
      "  - manta2-fileio-file_template (SignalRW)\n",
      "  - manta2-fileio-lazy_open (SignalRW)\n",
      "  - manta1-driver-nd_attributes_file (SignalRW)\n",
      "  - manta1-fileio-capture (SignalRW)\n",
      "  - noisy_det_noise      (EnumSignal)\n",
      "  - rot_motor-precision  (SignalR)\n",
      "  - manta2-driver-convert_pixel_format (SignalRW)\n",
      "  - manta2-fileio-full_file_name (SignalR)\n",
      "  - manta1-driver-acquire (SignalRW)\n",
      "  - manta1-fileio-array_size0 (SignalR)\n",
      "  - manta2-driver-trigger_source (SignalRW)\n",
      "  - manta2-fileio-file_number (SignalRW)\n",
      "  - rot_motor-deadband   (SignalR)\n",
      "  - manta1-driver-array_size_x (SignalR)\n",
      "  - manta1-fileio-array_size1 (SignalR)\n",
      "  - manta2-driver-trigger_mode (SignalRW)\n",
      "  - manta2-fileio-auto_increment (SignalRW)\n",
      "  - rot_motor-motor_done_move (SignalR)\n",
      "  - manta1-fileio-create_directory (SignalRW)\n",
      "  - noisy_det_noise_multiplier (Signal)\n",
      "  - manta1-driver-array_size_y (SignalR)\n",
      "  - manta2-driver-trigger_overlap (SignalRW)\n",
      "  - manta2-fileio-file_write_mode (SignalRW)\n",
      "  - motor                (_ReadbackSignal)\n",
      "  - rot_motor-low_limit_travel (SignalRW)\n",
      "  - manta1-fileio-unique_id (SignalR)\n",
      "  - manta1-fileio-nd_array_port (SignalRW)\n",
      "  - manta2               (TSTDetector)\n",
      "  - manta2-driver-exposure_mode (SignalRW)\n",
      "  - motor_setpoint       (_SetpointSignal)\n",
      "  - motor_acceleration   (Signal)\n",
      "  - manta1-driver-data_type (SignalR)\n",
      "  - manta2-fileio-num_capture (SignalRW)\n",
      "  - rot_motor-high_limit_travel (SignalRW)\n",
      "  - manta1-fileio-nd_attributes_file (SignalRW)\n",
      "  - manta2-fileio-num_captured (SignalR)\n",
      "  - manta1-fileio-enable_callbacks (SignalRW)\n",
      "  - manta2-fileio        (NDFileHDFIO)\n",
      "  - manta1-driver-array_counter (SignalRW)\n",
      "  - rot_motor-motor_egu  (SignalR)\n",
      "  - rot_motor-offset_freeze_switch (SignalRW)\n",
      "  - manta2-fileio-capture (SignalRW)\n",
      "  - manta1-fileio-acquire (SignalRW)\n",
      "  - manta1-fileio-nd_array_address (SignalRW)\n",
      "  - rot_motor-velocity   (SignalRW)\n",
      "  - manta1-driver-wait_for_plugins (SignalRW)\n",
      "  - manta2-fileio-array_size0 (SignalR)\n",
      "  - rot_motor-high_limit_switch (SignalR)\n",
      "  - manta1-fileio-array_size_x (SignalR)\n",
      "  - manta1-fileio-queue_size (SignalRW)\n",
      "  - manta2-fileio-array_size1 (SignalR)\n",
      "  - sim_det              (SynGauss)\n",
      "    PV prefix: \n",
      "  - manta1-driver-acquire_time (SignalRW)\n",
      "  - rot_motor-low_limit_switch (SignalR)\n",
      "  - manta1-fileio-array_size_y (SignalR)\n",
      "  - manta1-fileio-position_mode (SignalRW)\n",
      "  - motor_velocity       (Signal)\n",
      "  - manta2-fileio-create_directory (SignalRW)\n",
      "  - shutter              (SimulatedApsPssShutterWithStatus)\n",
      "    PV prefix: \n",
      "  - rot_motor-set_use_switch (SignalRW)\n",
      "  - manta1-driver-acquire_period (SignalRW)\n",
      "  - manta1               (TSTDetector)\n",
      "  - manta1-fileio-data_type (SignalR)\n",
      "  - manta1-fileio-compression (SignalRW)\n",
      "  - manta2-fileio-nd_array_port (SignalRW)\n",
      "  - rot_motor-motor_stop (SignalW)\n",
      "  - manta1-driver-num_images (SignalRW)\n",
      "  - manta1-fileio-array_counter (SignalRW)\n",
      "  - manta1-fileio-swmr_mode (SignalRW)\n",
      "  - manta1-fileio-num_extra_dims (SignalRW)\n",
      "  - manta2-fileio-enable_callbacks (SignalRW)\n",
      "  - manta1-driver-image_mode (SignalRW)\n",
      "  - manta1-fileio-wait_for_plugins (SignalRW)\n",
      "  - shutter_busy         (Signal)\n",
      "  - manta2-driver-unique_id (SignalR)\n",
      "  - manta2-fileio-nd_array_address (SignalRW)\n",
      "  - rot_motor-offset     (SignalRW)\n",
      "  - manta1-driver-detector_state (SignalR)\n",
      "  - noisy_det            (SynSignal)\n",
      "  - manta1-fileio-file_path (SignalRW)\n",
      "  - manta1-fileio-flush_now (SignalRW)\n",
      "  - rot_motor            (SignalR)\n",
      "  - noisy_det_Imax       (Signal)\n",
      "  - manta2-driver-nd_attributes_file (SignalRW)\n",
      "  - manta2-fileio-nd_attributes_file (SignalRW)\n",
      "  - manta2-fileio-queue_size (SignalRW)\n",
      "  - manta1-driver-convert_pixel_format (SignalRW)\n",
      "  - manta1-fileio-file_name (SignalRW)\n",
      "  - manta1-fileio-xml_file_name (SignalRW)\n",
      "  - manta2-fileio-unique_id (SignalR)\n",
      "  - motor_unused         (Signal)\n",
      "  - shutter_open_signal  (Signal)\n",
      "  - manta2-driver-acquire (SignalRW)\n",
      "  - manta2-fileio-position_mode (SignalRW)\n",
      "  - manta1-driver-trigger_source (SignalRW)\n",
      "  - manta1-fileio-file_path_exists (SignalR)\n",
      "  - manta1-fileio-num_frames_chunks (SignalR)\n",
      "  - manta2-fileio-acquire (SignalRW)\n",
      "  - manta2-driver-detector_state (SignalR)\n",
      "  - manta2-driver-array_size_y (SignalR)\n",
      "  - manta2-driver-array_size_x (SignalR)\n",
      "  - manta2-fileio-compression (SignalRW)\n",
      "  - noisy_det_center     (Signal)\n",
      "  - manta1-driver-trigger_mode (SignalRW)\n",
      "  - manta2-fileio-array_size_x (SignalR)\n",
      "  - manta1-fileio-file_template (SignalRW)\n",
      "  - manta1-fileio-chunk_size_auto (SignalRW)\n",
      "  - rot_motor            (TSTMotor)\n",
      "  - manta2-driver-data_type (SignalR)\n",
      "  - manta2-fileio-array_size_y (SignalR)\n",
      "  - manta2-fileio-num_extra_dims (SignalRW)\n",
      "  - manta1-driver-trigger_overlap (SignalRW)\n",
      "  - manta1-fileio        (NDFileHDFIO)\n",
      "  - manta1-fileio-full_file_name (SignalR)\n",
      "  - manta1-fileio-lazy_open (SignalRW)\n",
      "  - manta2-driver-array_counter (SignalRW)\n",
      "  - manta1-driver        (VimbaDriverIO)\n",
      "  - manta2-fileio-data_type (SignalR)\n",
      "  - manta2-fileio-swmr_mode (SignalRW)\n",
      "  - manta1-driver-exposure_mode (SignalRW)\n",
      "  - manta1-fileio-file_number (SignalRW)\n",
      "  - manta2-driver-wait_for_plugins (SignalRW)\n",
      "  - shutter_close_signal (Signal)\n",
      "  - manta2-fileio-array_counter (SignalRW)\n",
      "  - manta2-fileio-flush_now (SignalRW)\n",
      "  - manta1-fileio-auto_increment (SignalRW)\n",
      "  - manta2-driver-acquire_time (SignalRW)\n",
      "  - manta2-fileio-wait_for_plugins (SignalRW)\n",
      "  - manta2-fileio-xml_file_name (SignalRW)\n",
      "  - manta2-driver-acquire_period (SignalRW)\n",
      "  - sim_motor            (SynAxis)\n",
      "    PV prefix: \n",
      "  - manta1-fileio-file_write_mode (SignalRW)\n",
      "  - manta2-fileio-file_path (SignalRW)\n",
      "  - rot_motor-user_setpoint (SignalRW)\n",
      "  - noisy_det_sigma      (Signal)\n",
      "  - manta2-driver-num_images (SignalRW)\n",
      "  - manta2-fileio-num_frames_chunks (SignalR)\n",
      "  - manta2-fileio-file_name (SignalRW)\n",
      "  - shutter_pss_state    (Signal)\n",
      "  - manta1-fileio-num_capture (SignalRW)\n",
      "  - rot_motor-max_velocity (SignalR)\n",
      "  - manta2-driver-image_mode (SignalRW)\n",
      "  - manta2-fileio-file_path_exists (SignalR)\n",
      "  - manta2-fileio-chunk_size_auto (SignalRW)\n",
      "  - manta1-driver-unique_id (SignalR)\n",
      "  - manta1-fileio-num_captured (SignalR)\n",
      "  - manta2-driver        (VimbaDriverIO)\n",
      "  - rot_motor-acceleration_time (SignalRW)\n"
     ]
    }
   ],
   "source": [
    "# List all devices from oregistry\n",
    "print(\"\\n2. Listing all devices from oregistry:\")\n",
    "print(\"-\" * 40)\n",
    "try:\n",
    "    # Use oregistry.all_devices to get all devices\n",
    "    all_devices = oregistry.all_devices\n",
    "    device_list = [(device.name, device) for device in all_devices]\n",
    "    \n",
    "    print(f\"Total devices found: {len(device_list)}\")\n",
    "    for device_name, device in device_list:\n",
    "        device_type = type(device).__name__\n",
    "        print(f\"  - {device_name:<20} ({device_type})\")\n",
    "        \n",
    "        # Show additional info for TST devices\n",
    "        if hasattr(device, 'prefix'):\n",
    "            print(f\"    PV prefix: {device.prefix}\")\n",
    "except Exception as e:\n",
    "    print(f\"✗ Error listing devices: {e}\")"
   ]
  },
  {
   "cell_type": "markdown",
   "id": "plans-header",
   "metadata": {},
   "source": [
    "## 3. Available Plans"
   ]
  },
  {
   "cell_type": "code",
   "execution_count": 4,
   "id": "list-plans",
   "metadata": {},
   "outputs": [
    {
     "name": "stdout",
     "output_type": "stream",
     "text": [
      "\n",
      "3. Listing available plans:\n",
      "----------------------------------------\n",
      "Standard Bluesky plans: 62\n",
      "TST-specific plans: 6\n",
      "\n",
      "TST Plans:\n",
      "  - sim_count_plan\n",
      "  - sim_print_plan\n",
      "  - sim_rel_scan_plan\n",
      "  - tomo_demo_async\n",
      "  - xas_demo_async\n",
      "  - energy_calibration_plan\n"
     ]
    }
   ],
   "source": [
    "# List available plans\n",
    "print(\"\\n3. Listing available plans:\")\n",
    "print(\"-\" * 40)\n",
    "try:\n",
    "    # Get all available plans\n",
    "    plan_names = []\n",
    "    \n",
    "    # Standard Bluesky plans\n",
    "    from bluesky import plans as bp\n",
    "    for attr_name in dir(bp):\n",
    "        if not attr_name.startswith('_') and callable(getattr(bp, attr_name)):\n",
    "            plan_names.append(f\"bp.{attr_name}\")\n",
    "    \n",
    "    # TST-specific plans\n",
    "    tst_plans = [\n",
    "        \"sim_count_plan\",\n",
    "        \"sim_print_plan\", \n",
    "        \"sim_rel_scan_plan\",\n",
    "        \"tomo_demo_async\",\n",
    "        \"xas_demo_async\",\n",
    "        \"energy_calibration_plan\",\n",
    "    ]\n",
    "    \n",
    "    print(f\"Standard Bluesky plans: {len(plan_names)}\")\n",
    "    print(f\"TST-specific plans: {len(tst_plans)}\")\n",
    "    print(\"\\nTST Plans:\")\n",
    "    for plan in tst_plans:\n",
    "        print(f\"  - {plan}\")\n",
    "except Exception as e:\n",
    "    print(f\"✗ Error listing plans: {e}\")"
   ]
  },
  {
   "cell_type": "markdown",
   "id": "mock-plans-header",
   "metadata": {},
   "source": [
    "## 4. Running Mock Plans"
   ]
  },
  {
   "cell_type": "code",
   "execution_count": 5,
   "id": "test-print-plan",
   "metadata": {},
   "outputs": [
    {
     "name": "stdout",
     "output_type": "stream",
     "text": [
      "\n",
      "Test 1: Running sim_print_plan...\n",
      "sim_print_plan(): Hello from TST BITS!\n",
      "sim_print_plan():  sim_motor.position=0  sim_det.read()=OrderedDict([('noisy_det', {'value': np.float64(1.0271010865240264), 'timestamp': 1753370399.6880455})]).\n",
      "✓ sim_print_plan completed successfully\n"
     ]
    }
   ],
   "source": [
    "# Test 1: Simple print plan\n",
    "print(\"\\nTest 1: Running sim_print_plan...\")\n",
    "try:\n",
    "    RE(sim_print_plan(\"Hello from TST BITS!\"))\n",
    "    print(\"✓ sim_print_plan completed successfully\")\n",
    "except Exception as e:\n",
    "    print(f\"✗ Error running sim_print_plan: {e}\")"
   ]
  },
  {
   "cell_type": "code",
   "execution_count": 6,
   "id": "test-count-plan",
   "metadata": {},
   "outputs": [
    {
     "name": "stdout",
     "output_type": "stream",
     "text": [
      "\n",
      "Test 2: Running sim_count_plan...\n",
      "\n",
      "\n",
      "Transient Scan ID: 1     Time: 2025-07-24 10:20:03\n",
      "Persistent Unique Scan ID: '54548e59-81b4-499a-aa53-ef3293c1aed8'\n",
      "New stream: 'primary'\n",
      "+-----------+------------+------------+\n",
      "|   seq_num |       time |  noisy_det |\n",
      "+-----------+------------+------------+\n",
      "|         1 | 10:20:03.0 |  10000.049 |\n",
      "|         2 | 10:20:03.0 |   9999.927 |\n",
      "|         3 | 10:20:03.0 |   9999.927 |\n",
      "+-----------+------------+------------+\n",
      "generator count ['54548e59'] (scan num: 1)\n",
      "\n",
      "\n",
      "\n",
      "✓ sim_count_plan completed successfully\n"
     ]
    }
   ],
   "source": [
    "# Test 2: Count plan with simulated detector\n",
    "print(\"\\nTest 2: Running sim_count_plan...\")\n",
    "try:\n",
    "    # Use the simulated detector\n",
    "    sim_det = oregistry.find(name=\"sim_det\")\n",
    "    RE(sim_count_plan(sim_det, num=3))\n",
    "    print(\"✓ sim_count_plan completed successfully\")\n",
    "except Exception as e:\n",
    "    print(f\"✗ Error running sim_count_plan: {e}\")"
   ]
  },
  {
   "cell_type": "code",
   "execution_count": 7,
   "id": "test-scan-plan",
   "metadata": {},
   "outputs": [
    {
     "name": "stdout",
     "output_type": "stream",
     "text": [
      "\n",
      "Test 3: Running sim_rel_scan_plan...\n",
      "sim_rel_scan_plan(): motor.position=0.\n",
      "sim_rel_scan_plan(): detector.read()=OrderedDict([('noisy_det', {'value': np.float64(9999.926970986799), 'timestamp': 1753370403.0872364})]).\n",
      "sim_rel_scan_plan(): detector.read_configuration()=OrderedDict([('noisy_det_Imax', {'value': 10000, 'timestamp': 1753370403.2286928}), ('noisy_det_center', {'value': 0, 'timestamp': 1753370403.2307453}), ('noisy_det_sigma', {'value': 1, 'timestamp': 1753370403.2322607}), ('noisy_det_noise', {'value': 'uniform', 'timestamp': 1753370403.2335856}), ('noisy_det_noise_multiplier', {'value': 0.1, 'timestamp': 1753370399.6877916})]).\n",
      "sim_rel_scan_plan(): detector.noise._enum_strs=('none', 'poisson', 'uniform').\n",
      "\n",
      "\n",
      "Transient Scan ID: 2     Time: 2025-07-24 10:20:03\n",
      "Persistent Unique Scan ID: '33443c83-a3e6-49d3-8c94-e2b909344a96'\n",
      "New stream: 'primary'\n",
      "+-----------+------------+------------+------------+\n",
      "|   seq_num |       time |      motor |  noisy_det |\n",
      "+-----------+------------+------------+------------+\n",
      "|         1 | 10:20:03.2 |     -1.000 |   6065.211 |\n",
      "|         2 | 10:20:03.2 |     -0.500 |   8825.066 |\n",
      "|         3 | 10:20:03.2 |      0.000 |  10000.033 |\n",
      "|         4 | 10:20:03.2 |      0.500 |   8824.977 |\n",
      "|         5 | 10:20:03.2 |      1.000 |   6065.332 |\n",
      "+-----------+------------+------------+------------+\n",
      "generator rel_scan ['33443c83'] (scan num: 2)\n",
      "\n",
      "\n",
      "\n",
      "✓ sim_rel_scan_plan completed successfully\n"
     ]
    }
   ],
   "source": [
    "# Test 3: Relative scan with simulated motor and detector\n",
    "print(\"\\nTest 3: Running sim_rel_scan_plan...\")\n",
    "try:\n",
    "    sim_motor = oregistry.find(name=\"sim_motor\")\n",
    "    sim_det = oregistry.find(name=\"sim_det\")\n",
    "    RE(sim_rel_scan_plan(sim_det, sim_motor, -1, 1, 5))\n",
    "    print(\"✓ sim_rel_scan_plan completed successfully\")\n",
    "except Exception as e:\n",
    "    print(f\"✗ Error running sim_rel_scan_plan: {e}\")"
   ]
  },
  {
   "cell_type": "code",
   "execution_count": 8,
   "id": "test-energy-plan",
   "metadata": {},
   "outputs": [
    {
     "name": "stderr",
     "output_type": "stream",
     "text": [
      "I Thu-10:20:03.425: Starting energy calibration with 5 points\n"
     ]
    },
    {
     "name": "stdout",
     "output_type": "stream",
     "text": [
      "\n",
      "Test 4: Running energy_calibration_plan...\n",
      "\n",
      "\n",
      "Transient Scan ID: 3     Time: 2025-07-24 10:20:03\n",
      "Persistent Unique Scan ID: '0bf009fd-52af-4eb0-a919-23a3a82871e6'\n",
      "Calibration point 1/5: 8000\n"
     ]
    },
    {
     "name": "stderr",
     "output_type": "stream",
     "text": [
      "E Thu-10:20:03.443: Run aborted\n",
      "Traceback (most recent call last):\n",
      "  File \"/home/ravescovi/miniconda3/conda_envs/BITS_demo/lib/python3.11/site-packages/ophyd_async/core/_status.py\", line 148, in _notify_watchers_from\n",
      "    async for update in iterator:\n",
      "  File \"/home/ravescovi/miniconda3/conda_envs/BITS_demo/lib/python3.11/site-packages/ophyd_async/epics/motor.py\", line 183, in set\n",
      "    ) = await asyncio.gather(\n",
      "        ^^^^^^^^^^^^^^^^^^^^^\n",
      "  File \"/home/ravescovi/miniconda3/conda_envs/BITS_demo/lib/python3.11/site-packages/ophyd_async/core/_signal.py\", line 49, in wrapper\n",
      "    return await _wait_for(func(self, *args, **kwargs), self._timeout, self.source)\n",
      "           ^^^^^^^^^^^^^^^^^^^^^^^^^^^^^^^^^^^^^^^^^^^^^^^^^^^^^^^^^^^^^^^^^^^^^^^^\n",
      "  File \"/home/ravescovi/miniconda3/conda_envs/BITS_demo/lib/python3.11/site-packages/ophyd_async/core/_signal.py\", line 41, in _wait_for\n",
      "    return await asyncio.wait_for(coro, timeout)\n",
      "           ^^^^^^^^^^^^^^^^^^^^^^^^^^^^^^^^^^^^^\n",
      "  File \"/home/ravescovi/miniconda3/conda_envs/BITS_demo/lib/python3.11/asyncio/tasks.py\", line 489, in wait_for\n",
      "    return fut.result()\n",
      "           ^^^^^^^^^^^^\n",
      "  File \"/home/ravescovi/miniconda3/conda_envs/BITS_demo/lib/python3.11/site-packages/ophyd_async/core/_signal.py\", line 236, in get_value\n",
      "    value = await self._backend_or_cache(cached).get_value()\n",
      "            ^^^^^^^^^^^^^^^^^^^^^^^^^^^^^^^^^^^^^^^^^^^^^^^^\n",
      "  File \"/home/ravescovi/miniconda3/conda_envs/BITS_demo/lib/python3.11/site-packages/ophyd_async/epics/core/_aioca.py\", line 339, in get_value\n",
      "    value = await self._caget(self.read_pv, FORMAT_RAW)\n",
      "            ^^^^^^^^^^^^^^^^^^^^^^^^^^^^^^^^^^^^^^^^^^^\n",
      "  File \"/home/ravescovi/miniconda3/conda_envs/BITS_demo/lib/python3.11/site-packages/ophyd_async/epics/core/_aioca.py\", line 288, in _caget\n",
      "    pv, datatype=self.converter.read_dbr, format=format, timeout=None\n",
      "                 ^^^^^^^^^^^^^^^^^^^^^^^\n",
      "  File \"/home/ravescovi/miniconda3/conda_envs/BITS_demo/lib/python3.11/site-packages/ophyd_async/epics/core/_aioca.py\", line 111, in __getattribute__\n",
      "    raise NotImplementedError(\"No PV has been set as connect() has not been called\")\n",
      "NotImplementedError: No PV has been set as connect() has not been called\n",
      "\n",
      "The above exception was the direct cause of the following exception:\n",
      "\n",
      "Traceback (most recent call last):\n",
      "  File \"/home/ravescovi/miniconda3/conda_envs/BITS_demo/lib/python3.11/site-packages/bluesky/run_engine.py\", line 1596, in _run\n",
      "    msg = self._plan_stack[-1].throw(stashed_exception or resp)\n",
      "          ^^^^^^^^^^^^^^^^^^^^^^^^^^^^^^^^^^^^^^^^^^^^^^^^^^^^^\n",
      "  File \"/home/ravescovi/miniconda3/conda_envs/BITS_demo/lib/python3.11/site-packages/apstools/plans/labels_to_streams.py\", line 242, in label_stream_wrapper\n",
      "    return (yield from bpp.plan_mutator(plan, action[when.value]))\n",
      "            ^^^^^^^^^^^^^^^^^^^^^^^^^^^^^^^^^^^^^^^^^^^^^^^^^^^^^\n",
      "  File \"/home/ravescovi/miniconda3/conda_envs/BITS_demo/lib/python3.11/site-packages/bluesky/preprocessors.py\", line 96, in plan_mutator\n",
      "    msg = plan_stack[-1].throw(exception)\n",
      "          ^^^^^^^^^^^^^^^^^^^^^^^^^^^^^^^\n",
      "  File \"/home/ravescovi/miniconda3/conda_envs/BITS_demo/lib/python3.11/site-packages/bluesky/preprocessors.py\", line 1399, in __call__\n",
      "    return (yield from plan)\n",
      "            ^^^^^^^^^^^^^^^\n",
      "  File \"/home/ravescovi/miniconda3/conda_envs/BITS_demo/lib/python3.11/site-packages/bluesky/preprocessors.py\", line 1250, in baseline_wrapper\n",
      "    return (yield from plan)\n",
      "            ^^^^^^^^^^^^^^^\n",
      "  File \"/home/ravescovi/miniconda3/conda_envs/BITS_demo/lib/python3.11/site-packages/bluesky/preprocessors.py\", line 863, in monitor_during_wrapper\n",
      "    return (yield from plan2)\n",
      "            ^^^^^^^^^^^^^^^^\n",
      "  File \"/home/ravescovi/miniconda3/conda_envs/BITS_demo/lib/python3.11/site-packages/bluesky/preprocessors.py\", line 96, in plan_mutator\n",
      "    msg = plan_stack[-1].throw(exception)\n",
      "          ^^^^^^^^^^^^^^^^^^^^^^^^^^^^^^^\n",
      "  File \"/home/ravescovi/miniconda3/conda_envs/BITS_demo/lib/python3.11/site-packages/bluesky/preprocessors.py\", line 96, in plan_mutator\n",
      "    msg = plan_stack[-1].throw(exception)\n",
      "          ^^^^^^^^^^^^^^^^^^^^^^^^^^^^^^^\n",
      "  File \"/home/ravescovi/miniconda3/conda_envs/BITS_demo/lib/python3.11/site-packages/bluesky/preprocessors.py\", line 925, in fly_during_wrapper\n",
      "    return (yield from plan2)\n",
      "            ^^^^^^^^^^^^^^^^\n",
      "  File \"/home/ravescovi/miniconda3/conda_envs/BITS_demo/lib/python3.11/site-packages/bluesky/preprocessors.py\", line 96, in plan_mutator\n",
      "    msg = plan_stack[-1].throw(exception)\n",
      "          ^^^^^^^^^^^^^^^^^^^^^^^^^^^^^^^\n",
      "  File \"/home/ravescovi/miniconda3/conda_envs/BITS_demo/lib/python3.11/site-packages/bluesky/preprocessors.py\", line 96, in plan_mutator\n",
      "    msg = plan_stack[-1].throw(exception)\n",
      "          ^^^^^^^^^^^^^^^^^^^^^^^^^^^^^^^\n",
      "  File \"/home/ravescovi/workspace/bAIt/bits_deployments/tst-nsls-bits/src/tst_instrument/plans/xas_plans.py\", line 312, in energy_calibration_plan\n",
      "    yield from bps.mv(motor_device, energy)\n",
      "  File \"/home/ravescovi/miniconda3/conda_envs/BITS_demo/lib/python3.11/site-packages/bluesky/utils/__init__.py\", line 1955, in __iter__\n",
      "    return (yield from self._iter)\n",
      "            ^^^^^^^^^^^^^^^^^^^^^\n",
      "  File \"/home/ravescovi/miniconda3/conda_envs/BITS_demo/lib/python3.11/site-packages/bluesky/plan_stubs.py\", line 395, in mv\n",
      "    yield Msg(\"wait\", None, group=group, timeout=timeout)\n",
      "  File \"/home/ravescovi/miniconda3/conda_envs/BITS_demo/lib/python3.11/site-packages/bluesky/preprocessors.py\", line 213, in plan_mutator\n",
      "    inner_ret = yield msg\n",
      "                ^^^^^^^^^\n",
      "  File \"/home/ravescovi/miniconda3/conda_envs/BITS_demo/lib/python3.11/site-packages/bluesky/preprocessors.py\", line 213, in plan_mutator\n",
      "    inner_ret = yield msg\n",
      "                ^^^^^^^^^\n",
      "  File \"/home/ravescovi/miniconda3/conda_envs/BITS_demo/lib/python3.11/site-packages/bluesky/preprocessors.py\", line 213, in plan_mutator\n",
      "    inner_ret = yield msg\n",
      "                ^^^^^^^^^\n",
      "  [Previous line repeated 2 more times]\n",
      "  File \"/home/ravescovi/miniconda3/conda_envs/BITS_demo/lib/python3.11/site-packages/bluesky/run_engine.py\", line 2411, in _status_object_completed\n",
      "    raise FailedStatus(ret) from exc\n",
      "bluesky.utils.FailedStatus: <WatchableAsyncStatus, device: rot_motor, task: <coroutine object WatchableAsyncStatus._notify_watchers_from at 0x7ea7a99b8a40>, errored: NotImplementedError('No PV has been set as connect() has not been called')>\n",
      "E Thu-10:20:03.451: Failed to stop <tst_instrument.devices.tst_motor.TSTMotor object at 0x7ea7aa357690>.\n",
      "Traceback (most recent call last):\n",
      "  File \"/home/ravescovi/miniconda3/conda_envs/BITS_demo/lib/python3.11/site-packages/bluesky/run_engine.py\", line 1471, in _stop_movable_objects\n",
      "    await maybe_await(obj.stop(success=success))\n",
      "  File \"/home/ravescovi/miniconda3/conda_envs/BITS_demo/lib/python3.11/site-packages/bluesky/utils/__init__.py\", line 1937, in maybe_await\n",
      "    return await ret\n",
      "           ^^^^^^^^^\n",
      "  File \"/home/ravescovi/miniconda3/conda_envs/BITS_demo/lib/python3.11/site-packages/ophyd_async/epics/motor.py\", line 222, in stop\n",
      "    await self.motor_stop.set(1, wait=False)\n",
      "  File \"/home/ravescovi/miniconda3/conda_envs/BITS_demo/lib/python3.11/site-packages/ophyd_async/core/_signal.py\", line 294, in set\n",
      "    async for attempt in retry_context(\n",
      "  File \"/home/ravescovi/miniconda3/conda_envs/BITS_demo/lib/python3.11/site-packages/stamina/_core.py\", line 549, in __anext__\n",
      "    await self._t_a_retrying.__anext__(),\n",
      "    ^^^^^^^^^^^^^^^^^^^^^^^^^^^^^^^^^^^^\n",
      "  File \"/home/ravescovi/miniconda3/conda_envs/BITS_demo/lib/python3.11/site-packages/tenacity/asyncio/__init__.py\", line 166, in __anext__\n",
      "    do = await self.iter(retry_state=self._retry_state)\n",
      "         ^^^^^^^^^^^^^^^^^^^^^^^^^^^^^^^^^^^^^^^^^^^^^^\n",
      "  File \"/home/ravescovi/miniconda3/conda_envs/BITS_demo/lib/python3.11/site-packages/tenacity/asyncio/__init__.py\", line 153, in iter\n",
      "    result = await action(retry_state)\n",
      "             ^^^^^^^^^^^^^^^^^^^^^^^^^\n",
      "  File \"/home/ravescovi/miniconda3/conda_envs/BITS_demo/lib/python3.11/site-packages/tenacity/_utils.py\", line 99, in inner\n",
      "    return call(*args, **kwargs)\n",
      "           ^^^^^^^^^^^^^^^^^^^^^\n",
      "  File \"/home/ravescovi/miniconda3/conda_envs/BITS_demo/lib/python3.11/site-packages/tenacity/__init__.py\", line 400, in <lambda>\n",
      "    self._add_action_func(lambda rs: rs.outcome.result())\n",
      "                                     ^^^^^^^^^^^^^^^^^^^\n",
      "  File \"/home/ravescovi/miniconda3/conda_envs/BITS_demo/lib/python3.11/concurrent/futures/_base.py\", line 449, in result\n",
      "    return self.__get_result()\n",
      "           ^^^^^^^^^^^^^^^^^^^\n",
      "  File \"/home/ravescovi/miniconda3/conda_envs/BITS_demo/lib/python3.11/concurrent/futures/_base.py\", line 401, in __get_result\n",
      "    raise self._exception\n",
      "  File \"/home/ravescovi/miniconda3/conda_envs/BITS_demo/lib/python3.11/site-packages/ophyd_async/core/_signal.py\", line 301, in set\n",
      "    await _wait_for(\n",
      "  File \"/home/ravescovi/miniconda3/conda_envs/BITS_demo/lib/python3.11/site-packages/ophyd_async/core/_signal.py\", line 41, in _wait_for\n",
      "    return await asyncio.wait_for(coro, timeout)\n",
      "           ^^^^^^^^^^^^^^^^^^^^^^^^^^^^^^^^^^^^^\n",
      "  File \"/home/ravescovi/miniconda3/conda_envs/BITS_demo/lib/python3.11/asyncio/tasks.py\", line 489, in wait_for\n",
      "    return fut.result()\n",
      "           ^^^^^^^^^^^^\n",
      "  File \"/home/ravescovi/miniconda3/conda_envs/BITS_demo/lib/python3.11/site-packages/ophyd_async/epics/core/_aioca.py\", line 302, in put\n",
      "    write_value = self.converter.write_value(value)\n",
      "                  ^^^^^^^^^^^^^^^^^^^^^^^^^^\n",
      "  File \"/home/ravescovi/miniconda3/conda_envs/BITS_demo/lib/python3.11/site-packages/ophyd_async/epics/core/_aioca.py\", line 111, in __getattribute__\n",
      "    raise NotImplementedError(\"No PV has been set as connect() has not been called\")\n",
      "NotImplementedError: No PV has been set as connect() has not been called\n"
     ]
    },
    {
     "name": "stdout",
     "output_type": "stream",
     "text": [
      "\n",
      "\n",
      "\n",
      "✗ Error running energy_calibration_plan: <WatchableAsyncStatus, device: rot_motor, task: <coroutine object WatchableAsyncStatus._notify_watchers_from at 0x7ea7a99b8a40>, errored: NotImplementedError('No PV has been set as connect() has not been called')>\n"
     ]
    }
   ],
   "source": [
    "# Test 4: Energy calibration plan (mock)\n",
    "print(\"\\nTest 4: Running energy_calibration_plan...\")\n",
    "try:\n",
    "    energy_points = [8000, 8500, 9000, 9500, 10000]\n",
    "    RE(energy_calibration_plan(energy_points, motor=\"rot_motor\"))\n",
    "    print(\"✓ energy_calibration_plan completed successfully\")\n",
    "except Exception as e:\n",
    "    print(f\"✗ Error running energy_calibration_plan: {e}\")"
   ]
  },
  {
   "cell_type": "markdown",
   "id": "engine-state-header",
   "metadata": {},
   "source": [
    "## 5. Run Engine State"
   ]
  },
  {
   "cell_type": "code",
   "execution_count": 9,
   "id": "check-engine-state",
   "metadata": {},
   "outputs": [
    {
     "name": "stdout",
     "output_type": "stream",
     "text": [
      "\n",
      "5. Run Engine State:\n",
      "----------------------------------------\n",
      "Run Engine state: idle\n",
      "Current run UID: 3\n",
      "Metadata keys: ['login_id', 'versions', 'pid', 'iconfig', 'databroker_catalog', 'beamline_id', 'instrument_name', 'facility_name', 'proposal_id', 'conda_prefix']...\n"
     ]
    }
   ],
   "source": [
    "# Show run engine state\n",
    "print(\"\\n5. Run Engine State:\")\n",
    "print(\"-\" * 40)\n",
    "try:\n",
    "    print(f\"Run Engine state: {RE.state}\")\n",
    "    print(f\"Current run UID: {RE.md.get('scan_id', 'N/A')}\")\n",
    "    print(f\"Metadata keys: {list(RE.md.keys())[:10]}...\")  # Show first 10 keys\n",
    "except Exception as e:\n",
    "    print(f\"✗ Error accessing RE state: {e}\")"
   ]
  },
  {
   "cell_type": "markdown",
   "id": "summary-header",
   "metadata": {},
   "source": [
    "## 6. Summary\n",
    "\n",
    "If all cells above executed successfully, your TST BITS deployment is working correctly!\n",
    "\n",
    "### Available Objects:\n",
    "- `RE`: Run Engine\n",
    "- `oregistry`: Device registry\n",
    "- All TST devices and plans\n",
    "\n",
    "### Try Interactive Commands:\n",
    "```python\n",
    "# Run a simple count\n",
    "RE(sim_count_plan(sim_det, num=5))\n",
    "\n",
    "# List all devices\n",
    "for device in oregistry.all_devices:\n",
    "    print(f\"{device.name}: {type(device).__name__}\")\n",
    "```"
   ]
  },
  {
   "cell_type": "code",
   "execution_count": 10,
   "id": "final-status",
   "metadata": {},
   "outputs": [
    {
     "name": "stdout",
     "output_type": "stream",
     "text": [
      "\n",
      "================================================================================\n",
      "TST BITS Test Notebook Complete!\n",
      "================================================================================\n",
      "\n",
      "You are now ready to use TST BITS interactively.\n",
      "All TST devices and plans are available in the notebook environment.\n"
     ]
    }
   ],
   "source": [
    "print(\"\\n\" + \"=\" * 80)\n",
    "print(\"TST BITS Test Notebook Complete!\")\n",
    "print(\"=\" * 80)\n",
    "print(\"\\nYou are now ready to use TST BITS interactively.\")\n",
    "print(\"All TST devices and plans are available in the notebook environment.\")"
   ]
  }
 ],
 "metadata": {
  "kernelspec": {
   "display_name": "BITS_demo",
   "language": "python",
   "name": "python3"
  },
  "language_info": {
   "codemirror_mode": {
    "name": "ipython",
    "version": 3
   },
   "file_extension": ".py",
   "mimetype": "text/x-python",
   "name": "python",
   "nbconvert_exporter": "python",
   "pygments_lexer": "ipython3",
   "version": "3.11.13"
  }
 },
 "nbformat": 4,
 "nbformat_minor": 5
}
